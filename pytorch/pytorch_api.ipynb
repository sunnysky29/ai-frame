{
 "cells": [
  {
   "cell_type": "markdown",
   "metadata": {},
   "source": [
    "pytorch官网： https://pytorch.org/docs/stable\n",
    "\n",
    "PyTorch常用代码段合集：https://mp.weixin.qq.com/s/2bpT93KrqwWfE-Ob0iC8xA"
   ]
  },
  {
   "cell_type": "markdown",
   "metadata": {},
   "source": [
    "## 张量（Tensor）处理\n"
   ]
  },
  {
   "cell_type": "markdown",
   "metadata": {},
   "source": [
    "### TORCH.GATHER理解\n",
    "\n",
    "> torch.gather(input, dim, index, *, sparse_grad=False, out=None) → Tensor\n",
    "\n"
   ]
  },
  {
   "cell_type": "markdown",
   "metadata": {},
   "source": [
    "具体是如何得到的呢？\n",
    "https://blog.csdn.net/edogawachia/article/details/80515038\n",
    "\n",
    "<img src=\"https://tva1.sinaimg.cn/large/008vxvgGgy1h80hwytl2kj319u0gugnh.jpg\" alt=\"image-20221111002703552\" style=\"zoom:50%;\" />"
   ]
  },
  {
   "cell_type": "code",
   "execution_count": 6,
   "metadata": {},
   "outputs": [
    {
     "name": "stdout",
     "output_type": "stream",
     "text": [
      "tensor([[1, 2],\n",
      "        [3, 4]])\n"
     ]
    },
    {
     "data": {
      "text/plain": [
       "tensor([[1, 1],\n",
       "        [4, 3]])"
      ]
     },
     "execution_count": 6,
     "metadata": {},
     "output_type": "execute_result"
    }
   ],
   "source": [
    "\"\"\"\n",
    "关键是“指定dim=1，也就是横向，dim=0，也就是纵向”\n",
    "\"\"\"\n",
    "import torch\n",
    "t = torch.tensor([[1, 2], [3, 4]])\n",
    "print(t)\n",
    "torch.gather(t, 1, torch.tensor([[0, 0], [1, 0]]))"
   ]
  },
  {
   "cell_type": "code",
   "execution_count": null,
   "metadata": {},
   "outputs": [],
   "source": []
  }
 ],
 "metadata": {
  "kernelspec": {
   "display_name": "Python 3",
   "language": "python",
   "name": "python3"
  },
  "language_info": {
   "codemirror_mode": {
    "name": "ipython",
    "version": 3
   },
   "file_extension": ".py",
   "mimetype": "text/x-python",
   "name": "python",
   "nbconvert_exporter": "python",
   "pygments_lexer": "ipython3",
   "version": "3.7.6"
  }
 },
 "nbformat": 4,
 "nbformat_minor": 4
}
